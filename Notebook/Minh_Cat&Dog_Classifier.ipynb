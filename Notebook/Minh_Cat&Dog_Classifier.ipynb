{
  "nbformat": 4,
  "nbformat_minor": 0,
  "metadata": {
    "environment": {
      "name": "tf2-2-2-gpu.2-2.m50",
      "type": "gcloud",
      "uri": "gcr.io/deeplearning-platform-release/tf2-2-2-gpu.2-2:m50"
    },
    "kernelspec": {
      "display_name": "Python 3",
      "language": "python",
      "name": "python3"
    },
    "language_info": {
      "codemirror_mode": {
        "name": "ipython",
        "version": 3
      },
      "file_extension": ".py",
      "mimetype": "text/x-python",
      "name": "python",
      "nbconvert_exporter": "python",
      "pygments_lexer": "ipython3",
      "version": "3.7.6"
    },
    "colab": {
      "name": "Minh_Cat&Dog_Classifier.ipynb",
      "provenance": [],
      "collapsed_sections": []
    }
  },
  "cells": [
    {
      "cell_type": "code",
      "metadata": {
        "id": "AmuxJ3DnP39-",
        "colab_type": "code",
        "colab": {},
        "outputId": "3aec9aa8-437b-423c-c914-bd51cdb7582c"
      },
      "source": [
        "# Import Library\n",
        "import os\n",
        "import pandas as pd\n",
        "import seaborn as sns\n",
        "import numpy as np # linear algebra\n",
        "import pandas as pd # data processing, CSV file I/O (e.g. pd.read_csv)\n",
        "import zipfile\n",
        "import glob\n",
        "import os\n",
        "import seaborn as sns\n",
        "import matplotlib.pyplot as plt\n",
        "from sklearn.model_selection import train_test_split\n",
        "import tensorflow as tf\n",
        "\n",
        "from keras.preprocessing.image import ImageDataGenerator, array_to_img, img_to_array, load_img\n",
        "from keras.applications.resnet50 import preprocess_input"
      ],
      "execution_count": null,
      "outputs": [
        {
          "output_type": "stream",
          "text": [
            "Using TensorFlow backend.\n"
          ],
          "name": "stderr"
        }
      ]
    },
    {
      "cell_type": "code",
      "metadata": {
        "id": "2tgpYce7P3-G",
        "colab_type": "code",
        "colab": {},
        "cellView": "form"
      },
      "source": [
        "#@title Helpers Function\n",
        "def gen_label(directory):\n",
        "    label = []\n",
        "    for file in os.listdir(directory):\n",
        "        if (file.split('.')[0] == 'dog'):\n",
        "            label.append(str(1))\n",
        "        elif (file.split('.')[0] == 'cat'):\n",
        "            label.append(str(0))\n",
        "    return label\n",
        "    #print(len(label),\"files in\", directory)\n",
        "    \n",
        "def get_path(directory): #function to generate a list of files' names\n",
        "    path = []\n",
        "    for files in os.listdir(directory):\n",
        "        if '.ipynb_checkpoints' not in files:\n",
        "            path.append(files)\n",
        "        else:\n",
        "            pass\n",
        "    return path"
      ],
      "execution_count": null,
      "outputs": []
    },
    {
      "cell_type": "markdown",
      "metadata": {
        "id": "5r4xS790RvRy",
        "colab_type": "text"
      },
      "source": [
        "# Load Data and EDA"
      ]
    },
    {
      "cell_type": "code",
      "metadata": {
        "id": "gvqXaxv2P3-K",
        "colab_type": "code",
        "colab": {}
      },
      "source": [
        "train_y = gen_label('/home/jupyter/train/cat')\n",
        "train_y.extend(gen_label('/home/jupyter/train/dog'))"
      ],
      "execution_count": null,
      "outputs": []
    },
    {
      "cell_type": "code",
      "metadata": {
        "id": "hY_Ov-4JP3-U",
        "colab_type": "code",
        "colab": {}
      },
      "source": [
        "train_cats = get_path('/home/jupyter/train/cat')\n",
        "train_dogs = get_path('/home/jupyter/train/dog')\n",
        "train_dog = []\n",
        "train_cat = []\n",
        "categories = []\n",
        "for i in train_dogs:\n",
        "    a= './dog/'+i\n",
        "    train_dog.append(a)\n",
        "for i in train_cats:\n",
        "    a= './cat/'+i\n",
        "    train_cat.append(a)\n",
        "train_cat.extend(train_dog)"
      ],
      "execution_count": null,
      "outputs": []
    },
    {
      "cell_type": "code",
      "metadata": {
        "id": "pJa4Jzf5P3-Y",
        "colab_type": "code",
        "colab": {},
        "outputId": "30c6c15c-dd46-49ce-ec59-d382208de788"
      },
      "source": [
        "# EDA\n",
        "df = pd.DataFrame({'filename': train_cat,\n",
        "                  'category': train_y})\n",
        "print(df.head())\n",
        "\n",
        "sns.countplot(x='category',data=df).set_title(\"Data Distribution\")\n",
        "plt.show()"
      ],
      "execution_count": null,
      "outputs": [
        {
          "output_type": "stream",
          "text": [
            "             filename category\n",
            "0  ./cat/cat.6259.jpg        0\n",
            "1  ./cat/cat.8290.jpg        0\n",
            "2   ./cat/cat.765.jpg        0\n",
            "3  ./cat/cat.3733.jpg        0\n",
            "4  ./cat/cat.8455.jpg        0\n"
          ],
          "name": "stdout"
        },
        {
          "output_type": "display_data",
          "data": {
            "image/png": "[encoded data removed]",
            "text/plain": [
              "<Figure size 432x288 with 1 Axes>"
            ]
          },
          "metadata": {
            "tags": [],
            "needs_background": "light"
          }
        }
      ]
    },
    {
      "cell_type": "code",
      "metadata": {
        "id": "0f7Zw83CP3-c",
        "colab_type": "code",
        "colab": {}
      },
      "source": [
        "#instantiate the constants\n",
        "batch_size = 128\n",
        "img_size = 224\n",
        "epochs = 5"
      ],
      "execution_count": null,
      "outputs": []
    },
    {
      "cell_type": "markdown",
      "metadata": {
        "id": "RbniuJEIR50q",
        "colab_type": "text"
      },
      "source": [
        "# Create train and Test set\n",
        "  "
      ]
    },
    {
      "cell_type": "code",
      "metadata": {
        "id": "CiiLBjT1P3-l",
        "colab_type": "code",
        "colab": {},
        "outputId": "529b0fca-4259-49fe-d156-f1cd1619ef90"
      },
      "source": [
        "# Split Train, Test set\n",
        "train_df1, valid_df1 = train_test_split(df, test_size=0.25)\n",
        "print(train_df1.shape)\n",
        "print(valid_df1.shape)"
      ],
      "execution_count": null,
      "outputs": [
        {
          "output_type": "stream",
          "text": [
            "(18750, 2)\n",
            "(6250, 2)\n"
          ],
          "name": "stdout"
        }
      ]
    },
    {
      "cell_type": "code",
      "metadata": {
        "id": "Y665Sn8lP3-p",
        "colab_type": "code",
        "colab": {},
        "outputId": "bc60b178-5cab-46cf-f57e-0f79c52edee9"
      },
      "source": [
        "train_df1['filename'].value_counts()"
      ],
      "execution_count": null,
      "outputs": [
        {
          "output_type": "execute_result",
          "data": {
            "text/plain": [
              "./cat/cat.10122.jpg    1\n",
              "./dog/dog.2533.jpg     1\n",
              "./cat/cat.6497.jpg     1\n",
              "./cat/cat.12108.jpg    1\n",
              "./cat/cat.9905.jpg     1\n",
              "                      ..\n",
              "./cat/cat.4186.jpg     1\n",
              "./dog/dog.5252.jpg     1\n",
              "./dog/dog.2789.jpg     1\n",
              "./dog/dog.8472.jpg     1\n",
              "./dog/dog.9658.jpg     1\n",
              "Name: filename, Length: 18750, dtype: int64"
            ]
          },
          "metadata": {
            "tags": []
          },
          "execution_count": 10
        }
      ]
    },
    {
      "cell_type": "code",
      "metadata": {
        "jupyter": {
          "source_hidden": true
        },
        "id": "ozKDVE1_P3-_",
        "colab_type": "code",
        "colab": {}
      },
      "source": [
        "import numpy as np \n",
        "import pandas as pd\n",
        "from keras.preprocessing.image import ImageDataGenerator, load_img\n",
        "from keras.utils import to_categorical\n",
        "from sklearn.model_selection import train_test_split\n",
        "import matplotlib.pyplot as plt\n",
        "import random\n",
        "import os\n",
        "import tensorflow as tf\n",
        "from tensorflow.keras import callbacks\n",
        "from tensorflow.keras.callbacks import EarlyStopping, ReduceLROnPlateau"
      ],
      "execution_count": null,
      "outputs": []
    },
    {
      "cell_type": "code",
      "metadata": {
        "jupyter": {
          "source_hidden": true
        },
        "id": "RFj80-tGP3_D",
        "colab_type": "code",
        "colab": {}
      },
      "source": [
        "points = os.listdir('./cat')\n",
        "dogs = os.listdir('./dog')\n",
        "dog = []\n",
        "cat = []\n",
        "categories = []\n",
        "for i in dogs:\n",
        "    a= './dog/'+i\n",
        "    dog.append(a)\n",
        "for i in points:\n",
        "    a= './cat/'+i\n",
        "    cat.append(a)\n",
        "cat.extend(dog)"
      ],
      "execution_count": null,
      "outputs": []
    },
    {
      "cell_type": "code",
      "metadata": {
        "jupyter": {
          "source_hidden": true
        },
        "id": "lYOeoBAVP3_J",
        "colab_type": "code",
        "colab": {}
      },
      "source": [
        "for point in cat:\n",
        "    category = point.split('/')[1]\n",
        "    if category == 'dog':\n",
        "        categories.append(1)\n",
        "    else:\n",
        "        categories.append(0)\n",
        "    \n",
        "df = pd.DataFrame({'point': cat,\n",
        "                   'category': categories})\n"
      ],
      "execution_count": null,
      "outputs": []
    },
    {
      "cell_type": "code",
      "metadata": {
        "jupyter": {
          "source_hidden": true
        },
        "id": "wz5KhtvnP3_R",
        "colab_type": "code",
        "colab": {}
      },
      "source": [
        "# Define Constant\n",
        "FAST_RUN = False\n",
        "IMAGE_WIDTH=224\n",
        "IMAGE_HEIGHT=224\n",
        "IMAGE_SIZE=(IMAGE_WIDTH, IMAGE_HEIGHT)\n",
        "IMAGE_CHANNELS=3"
      ],
      "execution_count": null,
      "outputs": []
    },
    {
      "cell_type": "code",
      "metadata": {
        "jupyter": {
          "source_hidden": true
        },
        "id": "kTBrEodDP3_c",
        "colab_type": "code",
        "colab": {}
      },
      "source": [
        "# Data Preprocess\n",
        "train_df, validate_df = train_test_split(df, test_size=0.20, random_state=42)\n",
        "train_df = train_df.reset_index(drop=True)\n",
        "validate_df = validate_df.reset_index(drop=True)"
      ],
      "execution_count": null,
      "outputs": []
    },
    {
      "cell_type": "code",
      "metadata": {
        "id": "ur9mLB8bP3_g",
        "colab_type": "code",
        "colab": {},
        "outputId": "5d103215-3f21-4005-d67e-e49792fcc38e"
      },
      "source": [
        "# EDA\n",
        "train_df.shape"
      ],
      "execution_count": null,
      "outputs": [
        {
          "output_type": "execute_result",
          "data": {
            "text/plain": [
              "(20000, 2)"
            ]
          },
          "metadata": {
            "tags": []
          },
          "execution_count": 168
        }
      ]
    },
    {
      "cell_type": "code",
      "metadata": {
        "jupyter": {
          "source_hidden": true
        },
        "id": "okOgAePBP3_j",
        "colab_type": "code",
        "colab": {},
        "outputId": "632da308-87d3-4825-ec1b-8f6e31d16ff1"
      },
      "source": [
        "# Create Generator\n",
        "train_df[\"category\"] = train_df[\"category\"].replace({0: '0', 1: '1'}) \n",
        "validate_df[\"category\"] = validate_df[\"category\"].replace({0: '0', 1: '1'}) \n",
        "batch_size=32\n",
        "\n",
        "from keras.applications.mobilenet_v2 import preprocess_input\n",
        "train_datagen = ImageDataGenerator(\n",
        "    rotation_range= 30,\n",
        "    rescale= 1./255,\n",
        "    shear_range= 0.1,\n",
        "    zoom_range= 0.2,\n",
        "    horizontal_flip= True, \n",
        "    width_shift_range= 0.2,\n",
        "    height_shift_range= 0.2\n",
        "    # preprocessing_function=preprocess_input\n",
        ")\n",
        "\n",
        "train_generator = train_datagen.flow_from_dataframe(\n",
        "    train_df, \n",
        "    directory=None, \n",
        "    x_col='point',\n",
        "    y_col='category',\n",
        "    target_size=IMAGE_SIZE,\n",
        "    class_mode='binary',\n",
        "    batch_size=batch_size)"
      ],
      "execution_count": null,
      "outputs": [
        {
          "output_type": "stream",
          "text": [
            "Found 20000 validated image filenames belonging to 2 classes.\n"
          ],
          "name": "stdout"
        }
      ]
    },
    {
      "cell_type": "code",
      "metadata": {
        "jupyter": {
          "source_hidden": true
        },
        "id": "riCQ3BOJP3_o",
        "colab_type": "code",
        "colab": {},
        "outputId": "c2a448ae-2729-4a91-a156-0a94a309402f"
      },
      "source": [
        "validation_datagen = ImageDataGenerator(\n",
        "    rescale=1./255\n",
        "    )\n",
        "\n",
        "validation_generator = validation_datagen.flow_from_dataframe(\n",
        "    validate_df, \n",
        "    directory=None, \n",
        "    x_col='point',\n",
        "    y_col='category',\n",
        "    target_size=IMAGE_SIZE,\n",
        "    class_mode='binary',\n",
        "    batch_size=batch_size\n",
        ")"
      ],
      "execution_count": null,
      "outputs": [
        {
          "output_type": "stream",
          "text": [
            "Found 5000 validated image filenames belonging to 2 classes.\n"
          ],
          "name": "stdout"
        }
      ]
    },
    {
      "cell_type": "markdown",
      "metadata": {
        "id": "X2ffg1QQRPZS",
        "colab_type": "text"
      },
      "source": [
        "# Train Model"
      ]
    },
    {
      "cell_type": "code",
      "metadata": {
        "jupyter": {
          "source_hidden": true
        },
        "id": "ETHWZeOyP3_t",
        "colab_type": "code",
        "colab": {}
      },
      "source": [
        "import tensorflow as tf\n",
        "# from tensorflow import keras\n",
        "from tensorflow.keras.models import Sequential\n",
        "from tensorflow.keras.layers import Conv2D, MaxPooling2D, Dropout, Flatten, Dense, Activation, BatchNormalization"
      ],
      "execution_count": null,
      "outputs": []
    },
    {
      "cell_type": "code",
      "metadata": {
        "jupyter": {
          "source_hidden": true
        },
        "id": "2YpaCXPSP3_x",
        "colab_type": "code",
        "colab": {}
      },
      "source": [
        "# Define model\n",
        "from tensorflow.keras import regularizers\n",
        "\n",
        "def define_model():\n",
        "    # load model\n",
        "    model = tf.keras.applications.MobileNetV2(include_top=False, input_shape=(224, 224, 3))\n",
        "    # mark loaded layers as not trainable\n",
        "    for layer in model.layers:\n",
        "        layer.trainable = False\n",
        "    # add new classifier layers\n",
        "    flat1 = Flatten()(model.layers[-1].output)\n",
        "    class1 = Dense(50, activation='relu', kernel_initializer='he_uniform')(flat1)\n",
        "    output = Dense(1, activation='sigmoid')(class1)\n",
        "    # define new model\n",
        "    model = tf.keras.Model(inputs=model.inputs, outputs=output)\n",
        "    # compile model\n",
        "    opt = tf.keras.optimizers.RMSprop(lr=0.001, momentum=0.9)\n",
        "    sgd = tf.keras.optimizers.SGD(lr=0.01, momentum=0.9) # Increase momentum to 0.9\n",
        "    model.compile(optimizer=sgd, loss='binary_crossentropy', metrics=['accuracy'])\n",
        "    return model\n",
        "\n",
        "model = define_model()"
      ],
      "execution_count": null,
      "outputs": []
    },
    {
      "cell_type": "code",
      "metadata": {
        "jupyter": {
          "source_hidden": true
        },
        "id": "fUdgvX3SP3_Z",
        "colab_type": "code",
        "colab": {}
      },
      "source": [
        "# Callbacks\n",
        "from tensorflow.keras.callbacks import EarlyStopping, ReduceLROnPlateau\n",
        "\n",
        "earlystop = EarlyStopping(patience=10)\n",
        "learning_rate_reduction = ReduceLROnPlateau(monitor='val_accuracy', \n",
        "                                            patience=2, \n",
        "                                            verbose=1, \n",
        "                                            factor=0.5, \n",
        "                                            min_lr=0.0001)\n",
        "callbacks = [earlystop, learning_rate_reduction]"
      ],
      "execution_count": null,
      "outputs": []
    },
    {
      "cell_type": "code",
      "metadata": {
        "id": "kdTqIbxrP3_6",
        "colab_type": "code",
        "colab": {},
        "outputId": "45bd5cb4-4eea-4bf2-b5b1-663d998aa569"
      },
      "source": [
        "epochs=20\n",
        "history = model.fit(\n",
        "    train_generator, \n",
        "    epochs=epochs,\n",
        "    validation_data=validation_generator,\n",
        "    validation_steps=validation_generator.samples//batch_size,\n",
        "    steps_per_epoch=train_generator.samples//batch_size,\n",
        "    callbacks=callbacks\n",
        ")"
      ],
      "execution_count": null,
      "outputs": [
        {
          "output_type": "stream",
          "text": [
            "Epoch 1/20\n",
            "625/625 [==============================] - 270s 432ms/step - loss: 0.1315 - accuracy: 0.9456 - val_loss: 0.0699 - val_accuracy: 0.9780 - lr: 0.0100\n",
            "Epoch 2/20\n",
            "625/625 [==============================] - 268s 430ms/step - loss: 0.1132 - accuracy: 0.9563 - val_loss: 0.0596 - val_accuracy: 0.9798 - lr: 0.0100\n",
            "Epoch 3/20\n",
            "625/625 [==============================] - 268s 429ms/step - loss: 0.0964 - accuracy: 0.9617 - val_loss: 0.0625 - val_accuracy: 0.9782 - lr: 0.0100\n",
            "Epoch 4/20\n",
            "625/625 [==============================] - ETA: 0s - loss: 0.0967 - accuracy: 0.9635\n",
            "Epoch 00004: ReduceLROnPlateau reducing learning rate to 0.004999999888241291.\n",
            "625/625 [==============================] - 268s 429ms/step - loss: 0.0967 - accuracy: 0.9635 - val_loss: 0.0552 - val_accuracy: 0.9788 - lr: 0.0100\n",
            "Epoch 5/20\n",
            "625/625 [==============================] - 268s 429ms/step - loss: 0.0809 - accuracy: 0.9672 - val_loss: 0.0467 - val_accuracy: 0.9820 - lr: 0.0050\n",
            "Epoch 6/20\n",
            "625/625 [==============================] - 268s 429ms/step - loss: 0.0736 - accuracy: 0.9697 - val_loss: 0.0427 - val_accuracy: 0.9816 - lr: 0.0050\n",
            "Epoch 7/20\n",
            "625/625 [==============================] - 268s 429ms/step - loss: 0.0768 - accuracy: 0.9689 - val_loss: 0.0433 - val_accuracy: 0.9824 - lr: 0.0050\n",
            "Epoch 8/20\n",
            "625/625 [==============================] - 268s 429ms/step - loss: 0.0716 - accuracy: 0.9712 - val_loss: 0.0446 - val_accuracy: 0.9814 - lr: 0.0050\n",
            "Epoch 9/20\n",
            "625/625 [==============================] - ETA: 0s - loss: 0.0699 - accuracy: 0.9727\n",
            "Epoch 00009: ReduceLROnPlateau reducing learning rate to 0.0024999999441206455.\n",
            "625/625 [==============================] - 268s 429ms/step - loss: 0.0699 - accuracy: 0.9727 - val_loss: 0.0496 - val_accuracy: 0.9802 - lr: 0.0050\n",
            "Epoch 10/20\n",
            "625/625 [==============================] - 269s 430ms/step - loss: 0.0621 - accuracy: 0.9755 - val_loss: 0.0420 - val_accuracy: 0.9812 - lr: 0.0025\n",
            "Epoch 11/20\n",
            "625/625 [==============================] - 268s 430ms/step - loss: 0.0666 - accuracy: 0.9730 - val_loss: 0.0421 - val_accuracy: 0.9826 - lr: 0.0025\n",
            "Epoch 12/20\n",
            "625/625 [==============================] - 268s 429ms/step - loss: 0.0639 - accuracy: 0.9747 - val_loss: 0.0461 - val_accuracy: 0.9814 - lr: 0.0025\n",
            "Epoch 13/20\n",
            "625/625 [==============================] - ETA: 0s - loss: 0.0643 - accuracy: 0.9737\n",
            "Epoch 00013: ReduceLROnPlateau reducing learning rate to 0.0012499999720603228.\n",
            "625/625 [==============================] - 269s 431ms/step - loss: 0.0643 - accuracy: 0.9737 - val_loss: 0.0456 - val_accuracy: 0.9820 - lr: 0.0025\n",
            "Epoch 14/20\n",
            "625/625 [==============================] - 269s 430ms/step - loss: 0.0580 - accuracy: 0.9750 - val_loss: 0.0454 - val_accuracy: 0.9804 - lr: 0.0012\n",
            "Epoch 15/20\n",
            "625/625 [==============================] - ETA: 0s - loss: 0.0574 - accuracy: 0.9777\n",
            "Epoch 00015: ReduceLROnPlateau reducing learning rate to 0.0006249999860301614.\n",
            "625/625 [==============================] - 269s 431ms/step - loss: 0.0574 - accuracy: 0.9777 - val_loss: 0.0441 - val_accuracy: 0.9810 - lr: 0.0012\n",
            "Epoch 16/20\n",
            "625/625 [==============================] - 270s 431ms/step - loss: 0.0611 - accuracy: 0.9761 - val_loss: 0.0423 - val_accuracy: 0.9814 - lr: 6.2500e-04\n",
            "Epoch 17/20\n",
            "625/625 [==============================] - ETA: 0s - loss: 0.0549 - accuracy: 0.9785\n",
            "Epoch 00017: ReduceLROnPlateau reducing learning rate to 0.0003124999930150807.\n",
            "625/625 [==============================] - 271s 433ms/step - loss: 0.0549 - accuracy: 0.9785 - val_loss: 0.0413 - val_accuracy: 0.9826 - lr: 6.2500e-04\n",
            "Epoch 18/20\n",
            "625/625 [==============================] - 272s 435ms/step - loss: 0.0558 - accuracy: 0.9778 - val_loss: 0.0410 - val_accuracy: 0.9826 - lr: 3.1250e-04\n",
            "Epoch 19/20\n",
            "625/625 [==============================] - ETA: 0s - loss: 0.0530 - accuracy: 0.9786\n",
            "Epoch 00019: ReduceLROnPlateau reducing learning rate to 0.00015624999650754035.\n",
            "625/625 [==============================] - 272s 435ms/step - loss: 0.0530 - accuracy: 0.9786 - val_loss: 0.0412 - val_accuracy: 0.9820 - lr: 3.1250e-04\n",
            "Epoch 20/20\n",
            "625/625 [==============================] - 273s 436ms/step - loss: 0.0564 - accuracy: 0.9760 - val_loss: 0.0401 - val_accuracy: 0.9818 - lr: 1.5625e-04\n"
          ],
          "name": "stdout"
        }
      ]
    },
    {
      "cell_type": "markdown",
      "metadata": {
        "id": "nBaA4g9sRTWx",
        "colab_type": "text"
      },
      "source": [
        "# Save Model"
      ]
    },
    {
      "cell_type": "code",
      "metadata": {
        "id": "3LYNw5J0P3_9",
        "colab_type": "code",
        "colab": {}
      },
      "source": [
        "model.save('catdog_mobilenetv2_minh2.h5')"
      ],
      "execution_count": null,
      "outputs": []
    }
  ]
}